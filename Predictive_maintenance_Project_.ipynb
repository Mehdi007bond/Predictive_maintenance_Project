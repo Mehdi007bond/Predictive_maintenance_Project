{
  "nbformat": 4,
  "nbformat_minor": 0,
  "metadata": {
    "colab": {"provenance": [], "authorship_tag": "ABX9TyP/AtCuREUUiVLDwfviZWDJ", "include_colab_link": true},
    "kernelspec": {"name": "python3", "display_name": "Python 3"},
    "language_info": {"name": "python"}
  },
  "cells": [
    {"cell_type": "markdown", "metadata": {"id": "view-in-github", "colab_type": "text"}, "source": ["<a href=\"https://colab.research.google.com/github/Mehdi007bond/Predictive_maintenance_Project/blob/main/Predictive_maintenance_Project_.ipynb\" target=\"_parent\"><img src=\"https://colab.research.google.com/assets/colab-badge.svg\" alt=\"Open In Colab\"/></a>"]},
    {"cell_type": "markdown", "metadata": {"id": "project-intro"}, "source": ["# 🔧 Predictive Maintenance Project\n\n","## 📋 Project Description\n","This notebook demonstrates an end-to-end Predictive Maintenance (PdM) workflow: synthetic data generation, exploratory data analysis (EDA), and deep learning-based failure prediction. The objective is to anticipate equipment failures early by learning degradation patterns from multivariate sensor time series (temperature, vibration, current, torque). The dataset simulates 4 production lines and 12 machines over 60 days, with a state-based failure label (≈4% positive).\n\n","## 🎯 Purpose\n","- Anticipate failures with sufficient lead time (≈58 hours) to plan maintenance.\n","- Reduce unplanned downtime and optimize maintenance schedules.\n","- Provide a reproducible baseline (data generation + LSTM modeling) ready for industrial adaptation.\n\n","## 🧠 Method Overview\n","1. Generate realistic sensor signals with machine-specific degradation profiles.\n","2. EDA to understand distributions, correlations, and failure patterns.\n","3. Sequence modeling (LSTM) with temporal windows to classify failing states.\n","4. Evaluate with AUROC/AUPRC/F1 and per-segment analysis (line/type).\n\n","## 📦 Stack\n","Python, pandas, NumPy, Matplotlib/Seaborn, TensorFlow/Keras (LSTM).\n"]},
    REPLACE_EXISTING_CELLS
  ]
}
